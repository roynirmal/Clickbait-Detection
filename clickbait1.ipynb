{
 "cells": [
  {
   "cell_type": "code",
   "execution_count": 1,
   "metadata": {
    "collapsed": true
   },
   "outputs": [],
   "source": [
    "%matplotlib inline\n",
    "import nltk\n",
    "import pandas as pd\n",
    "from nltk.tokenize import word_tokenize"
   ]
  },
  {
   "cell_type": "code",
   "execution_count": 8,
   "metadata": {
    "collapsed": true
   },
   "outputs": [],
   "source": [
    "trainFile = 'E:/CODE/NLP/train1703/train1703.jsonl'\n",
    "trainData = pd.read_json(testFile, lines=True)\n",
    "testFile = 'E:/CODE/NLP/val1706/val1706.jsonl'\n",
    "testData = pd.read_json(testFile, lines=True)"
   ]
  },
  {
   "cell_type": "code",
   "execution_count": 9,
   "metadata": {
    "collapsed": true
   },
   "outputs": [],
   "source": [
    "trainLabelsFile = 'E:/CODE/NLP/train1703/traintruth1703.jsonl'\n",
    "trainLabels = pd.read_json(testLabelsFile, lines=True)\n",
    "testLabelsFile = 'E:/CODE/NLP/val1706/valtruth1706.jsonl'\n",
    "testLabels = pd.read_json(testLabelsFile, lines=True)"
   ]
  },
  {
   "cell_type": "code",
   "execution_count": 11,
   "metadata": {
    "collapsed": true
   },
   "outputs": [],
   "source": [
    "# Join data + labels\n",
    "def label(data, labels):\n",
    "    return pd.concat([data, labels['truthClass']], axis=1, join_axes=[data.index])\n",
    "\n",
    "train = label(trainData, trainLabels)\n",
    "test = label(testData, testLabels)"
   ]
  },
  {
   "cell_type": "code",
   "execution_count": 16,
   "metadata": {
    "collapsed": true
   },
   "outputs": [],
   "source": [
    "trainClick = train[train.truthClass == \"clickbait\"]\n",
    "trainNoClick = train[train.truthClass == \"no-clickbait\"]\n",
    "testClick = test[test.truthClass == \"clickbait\"]\n",
    "testNoClick = test[test.truthClass == \"no-clickbait\"]"
   ]
  },
  {
   "cell_type": "code",
   "execution_count": null,
   "metadata": {
    "collapsed": true
   },
   "outputs": [],
   "source": [
    "testClick.targetTitle.iloc[0]\n",
    "testClick.targetKeywords.iloc[0]"
   ]
  },
  {
   "cell_type": "code",
   "execution_count": 17,
   "metadata": {},
   "outputs": [
    {
     "name": "stdout",
     "output_type": "stream",
     "text": [
      "4761 762 14777 1697\n"
     ]
    }
   ],
   "source": [
    "print(len(testClick), len(trainClick), len(testNoClick),  len(trainNoClick))"
   ]
  },
  {
   "cell_type": "code",
   "execution_count": 17,
   "metadata": {
    "collapsed": true
   },
   "outputs": [],
   "source": [
    "# posFreq: returns a vector with the frequency of every POS in a given content\n",
    "def posFreq(content):\n",
    "#     return nltk.pos_tag_sents(str(content).strip('[]'))\n",
    "#     return nltk.pos_tag(content)\n",
    "    \n",
    "    posTags = pd.DataFrame(nltk.pos_tag(nltk.word_tokenize(str(content)[2:-2])))\n",
    "    posFrequencies = posTags[1].value_counts()\n",
    "    totalWords = posFrequencies.sum()\n",
    "    posFreqNormlized = posFrequencies/totalWords\n",
    "    return posFreqNormlized\n",
    "    \n",
    "testClickPostTextPOS = testClick['postText'].apply(posFreq)\n",
    "testNoClickPostTextPOS = testNoClick['postText'].apply(posFreq)\n",
    "# posFrequencies.mean() # get the mean of the counts"
   ]
  },
  {
   "cell_type": "code",
   "execution_count": 18,
   "metadata": {
    "collapsed": true
   },
   "outputs": [],
   "source": [
    "testCFreq = testClickPostTextPOS.mean()\n",
    "testNCFreq = testNoClickPostTextPOS.mean()"
   ]
  },
  {
   "cell_type": "code",
   "execution_count": 19,
   "metadata": {},
   "outputs": [
    {
     "data": {
      "text/plain": [
       "<matplotlib.axes._subplots.AxesSubplot at 0x19eb75bc630>"
      ]
     },
     "execution_count": 19,
     "metadata": {},
     "output_type": "execute_result"
    },
    {
     "data": {
      "image/png": "[encoded data removed]",
      "text/plain": [
       "<matplotlib.figure.Figure at 0x19eb75cada0>"
      ]
     },
     "metadata": {},
     "output_type": "display_data"
    }
   ],
   "source": [
    "testCFreq.plot('bar')"
   ]
  },
  {
   "cell_type": "code",
   "execution_count": 20,
   "metadata": {},
   "outputs": [
    {
     "data": {
      "text/plain": [
       "<matplotlib.axes._subplots.AxesSubplot at 0x19eb74ea160>"
      ]
     },
     "execution_count": 20,
     "metadata": {},
     "output_type": "execute_result"
    },
    {
     "data": {
      "image/png": "[encoded data removed]",
      "text/plain": [
       "<matplotlib.figure.Figure at 0x19eb72994e0>"
      ]
     },
     "metadata": {},
     "output_type": "display_data"
    }
   ],
   "source": [
    "testNCFreq.plot('bar')"
   ]
  },
  {
   "cell_type": "code",
   "execution_count": 21,
   "metadata": {},
   "outputs": [
    {
     "ename": "SyntaxError",
     "evalue": "invalid syntax (<ipython-input-21-d3295501bdb9>, line 5)",
     "output_type": "error",
     "traceback": [
      "\u001b[1;36m  File \u001b[1;32m\"<ipython-input-21-d3295501bdb9>\"\u001b[1;36m, line \u001b[1;32m5\u001b[0m\n\u001b[1;33m    posMeans.max/\u001b[0m\n\u001b[1;37m                 ^\u001b[0m\n\u001b[1;31mSyntaxError\u001b[0m\u001b[1;31m:\u001b[0m invalid syntax\n"
     ]
    }
   ],
   "source": [
    "posFrequencies.iloc[0].sum()\n",
    "# posFrequencies['#'].iloc[1] # percentage of '#' in this content\n",
    "posMeans = posFrequencies.mean()\n",
    "posMeans.plot('bar')\n",
    "# posMeans.max/"
   ]
  },
  {
   "cell_type": "code",
   "execution_count": 439,
   "metadata": {},
   "outputs": [
    {
     "data": {
      "text/plain": [
       "<matplotlib.axes._subplots.AxesSubplot at 0x1ae889017b8>"
      ]
     },
     "execution_count": 439,
     "metadata": {},
     "output_type": "execute_result"
    },
    {
     "data": {
      "image/png": "[encoded data removed]",
      "text/plain": [
       "<matplotlib.figure.Figure at 0x1ae8892b860>"
      ]
     },
     "metadata": {},
     "output_type": "display_data"
    }
   ],
   "source": [
    "postag = pd.DataFrame(posFreq(valdata['postText'][0]))\n",
    "postag[1].value_counts().plot('bar')"
   ]
  },
  {
   "cell_type": "code",
   "execution_count": 19,
   "metadata": {},
   "outputs": [
    {
     "name": "stdout",
     "output_type": "stream",
     "text": [
      "hello\n",
      "0.0003070541870413557\n"
     ]
    }
   ],
   "source": [
    "# To measure elapsed command time\n",
    "import timeit\n",
    "\n",
    "start = timeit.timeit()\n",
    "print('hello')\n",
    "end = timeit.timeit()\n",
    "print(end - start)"
   ]
  },
  {
   "cell_type": "code",
   "execution_count": null,
   "metadata": {
    "collapsed": true
   },
   "outputs": [],
   "source": [
    "from sklearn.feature_selection import mutual_info_classif\n",
    "import operator"
   ]
  },
  {
   "cell_type": "code",
   "execution_count": null,
   "metadata": {
    "collapsed": true
   },
   "outputs": [],
   "source": [
    "help(mutual_info_classif)\n",
    ":ref:`User Guide <univariate_feature_selection>`"
   ]
  },
  {
   "cell_type": "code",
   "execution_count": 24,
   "metadata": {},
   "outputs": [
    {
     "ename": "SyntaxError",
     "evalue": "invalid syntax (<ipython-input-24-55cd4dd30733>, line 2)",
     "output_type": "error",
     "traceback": [
      "\u001b[1;36m  File \u001b[1;32m\"<ipython-input-24-55cd4dd30733>\"\u001b[1;36m, line \u001b[1;32m2\u001b[0m\n\u001b[1;33m    :ref:`User Guide <univariate_feature_selection>`\u001b[0m\n\u001b[1;37m    ^\u001b[0m\n\u001b[1;31mSyntaxError\u001b[0m\u001b[1;31m:\u001b[0m invalid syntax\n"
     ]
    }
   ],
   "source": []
  }
 ],
 "metadata": {
  "kernelspec": {
   "display_name": "Python 3",
   "language": "python",
   "name": "python3"
  },
  "language_info": {
   "codemirror_mode": {
    "name": "ipython",
    "version": 3
   },
   "file_extension": ".py",
   "mimetype": "text/x-python",
   "name": "python",
   "nbconvert_exporter": "python",
   "pygments_lexer": "ipython3",
   "version": "3.6.3"
  }
 },
 "nbformat": 4,
 "nbformat_minor": 2
}
