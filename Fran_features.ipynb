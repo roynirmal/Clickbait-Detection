{
 "cells": [
  {
   "cell_type": "code",
   "execution_count": null,
   "metadata": {
    "collapsed": true
   },
   "outputs": [],
   "source": [
    "import nltk as nl\n",
    "import pandas as pd\n",
    "import numpy as np\n",
    "from sklearn.feature_extraction.text import TfidfVectorizer\n",
    "from sklearn.metrics.pairwise import linear_kernel\n",
    "from sklearn.datasets import fetch_20newsgroups"
   ]
  },
  {
   "cell_type": "code",
   "execution_count": null,
   "metadata": {
    "collapsed": true
   },
   "outputs": [],
   "source": [
    "##read File\n",
    "fileclick = 'C:/train1703.jsonl'\n",
    "fileclick\n",
    "\n"
   ]
  },
  {
   "cell_type": "code",
   "execution_count": null,
   "metadata": {
    "collapsed": true
   },
   "outputs": [],
   "source": [
    " from nltk.corpus import words"
   ]
  },
  {
   "cell_type": "code",
   "execution_count": null,
   "metadata": {
    "collapsed": true
   },
   "outputs": [],
   "source": [
    "#Store file in a variable\n",
    "varfile = pd.read_json(fileclick, lines = True)\n",
    "varfile\n",
    "\n",
    "varpd = pd.DataFrame.from_dict(varfile)\n"
   ]
  },
  {
   "cell_type": "code",
   "execution_count": 180,
   "metadata": {
    "collapsed": true
   },
   "outputs": [],
   "source": [
    "# Function: Content POS tags frequencies\n",
    "\n",
    "# posFreq: returns a vector with the frequency of every POS tag in a given content\n",
    "def posFreq(content):\n",
    "    posTags = pd.DataFrame(nl.pos_tag(nl.word_tokenize(str(content))))\n",
    "#     posTags = pd.DataFrame(nl.pos_tag(nl.word_tokenize(str(content)[2:-2])))\n",
    "    posFrequencies = posTags[1].value_counts()\n",
    "    totalWords = posFrequencies.sum()\n",
    "    posFreqNormlized = posFrequencies/totalWords\n",
    "    return posFreqNormlized\n",
    "#     return posFrequencies"
   ]
  },
  {
   "cell_type": "code",
   "execution_count": 203,
   "metadata": {
    "collapsed": true
   },
   "outputs": [],
   "source": [
    "# Function: POS Tag Feature Generator\n",
    "def posFreqGen(contents, contentLabel):\n",
    "    prefix = str(contentLabel) + '_'\n",
    "#     Tags = varfile[contentLabel].apply(posFreq)\n",
    "    Tags = contents.apply(posFreq)\n",
    "    Tags.fillna(0, inplace=True)\n",
    "    Tags.columns = [prefix + str(col) for col in Tags.columns]\n",
    "    tagFeatures = pd.concat([varpd[['id']], Tags], ignore_index=False, axis=1)\n",
    "    return tagFeatures\n",
    "#     return prefix"
   ]
  },
  {
   "cell_type": "code",
   "execution_count": 212,
   "metadata": {
    "collapsed": true
   },
   "outputs": [],
   "source": [
    "# Feature: POS tags in postTitle\n",
    "features11 = posFreqGen(varfile['postText'], 'postTitle')"
   ]
  },
  {
   "cell_type": "code",
   "execution_count": 184,
   "metadata": {
    "collapsed": true
   },
   "outputs": [],
   "source": [
    "# Feature: POS tags in target Title\n",
    "features101 = posFreqGen(varfile['targetTitle'], 'targetTitle')"
   ]
  },
  {
   "cell_type": "code",
   "execution_count": null,
   "metadata": {
    "collapsed": true
   },
   "outputs": [],
   "source": [
    "# Feature: POS tags in target Paragraphs\n",
    "features102 = posFreqGen(varfile['targetPar'], 'targetPar')"
   ]
  },
  {
   "cell_type": "code",
   "execution_count": null,
   "metadata": {
    "collapsed": true
   },
   "outputs": [],
   "source": [
    "finalFeatures = pd.merge(finalFeatures, features11,  on='id')\n",
    "\n",
    "len(finalFeatures.columns)"
   ]
  },
  {
   "cell_type": "code",
   "execution_count": null,
   "metadata": {
    "collapsed": true
   },
   "outputs": [],
   "source": [
    "\n",
    "# finalFeatures = pd.merge(finalFeatures, features9,  on='id')\n",
    "# finalFeatures = pd.merge(finalFeatures, features10,  on='id')\n",
    "\n",
    "featNorm = finalFeatures.copy()\n",
    "for  k in range(1,80):\n",
    "    m = np.mean(finalFeatures.iloc[:,k])\n",
    "    s = np.std(finalFeatures.iloc[:,k])\n",
    "    featNorm.iloc[:,k] = (finalFeatures.iloc[:,k]-m)/s\n"
   ]
  },
  {
   "cell_type": "code",
   "execution_count": null,
   "metadata": {
    "collapsed": true
   },
   "outputs": [],
   "source": [
    "featNorm = finalFeatures.copy()\n",
    "for k in range(1,80):\n",
    "    m = np.mean(finalFeatures.iloc[:,k])\n",
    "    s = np.std(finalFeatures.iloc[:,k])\n",
    "    featNorm.iloc[:,k] = (finalFeatures.iloc[:,k]-m)/s"
   ]
  },
  {
   "cell_type": "code",
   "execution_count": null,
   "metadata": {
    "collapsed": true
   },
   "outputs": [],
   "source": [
    "featNorm"
   ]
  },
  {
   "cell_type": "code",
   "execution_count": null,
   "metadata": {
    "collapsed": true
   },
   "outputs": [],
   "source": []
  }
 ],
 "metadata": {
  "kernelspec": {
   "display_name": "Python 3",
   "language": "python",
   "name": "python3"
  },
  "language_info": {
   "codemirror_mode": {
    "name": "ipython",
    "version": 3
   },
   "file_extension": ".py",
   "mimetype": "text/x-python",
   "name": "python",
   "nbconvert_exporter": "python",
   "pygments_lexer": "ipython3",
   "version": "3.6.3"
  }
 },
 "nbformat": 4,
 "nbformat_minor": 2
}
